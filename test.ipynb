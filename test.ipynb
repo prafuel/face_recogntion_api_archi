{
 "cells": [
  {
   "cell_type": "code",
   "execution_count": 7,
   "metadata": {},
   "outputs": [],
   "source": [
    "from keras_vggface.vggface import VGGFace\n",
    "from api.recognition.src.utility import identify_user, get_face_vector\n",
    "from detection.face_detection import (\n",
    "    get_face_box, blur_image\n",
    ")\n",
    "\n",
    "import cv2"
   ]
  },
  {
   "cell_type": "code",
   "execution_count": 30,
   "metadata": {},
   "outputs": [
    {
     "name": "stdout",
     "output_type": "stream",
     "text": [
      "Model load...\n"
     ]
    }
   ],
   "source": [
    "# Loading Model for face_vectors\n",
    "model = VGGFace(model='resnet50', include_top=False, input_shape=(224, 224, 3), pooling='avg')\n",
    "print(\"Model load...\")\n",
    "\n",
    "\n",
    "async def recognize_faces(frame, face_bboxes: list) -> list:\n",
    "    recognized_users = []\n",
    "    for bbox in face_bboxes:\n",
    "        x, y, w, h = bbox\n",
    "        \n",
    "        name = \"unknown\"\n",
    "        print(\"*\"*100)\n",
    "        \n",
    "        # Get face vector\n",
    "        face_vector = get_face_vector(model=model, frame=frame, points=bbox)\n",
    "\n",
    "        recognized_users.append(\n",
    "            identify_user(face_vector)\n",
    "        )\n",
    "    \n",
    "    return recognized_users"
   ]
  },
  {
   "cell_type": "code",
   "execution_count": 31,
   "metadata": {},
   "outputs": [
    {
     "name": "stdout",
     "output_type": "stream",
     "text": [
      "****************************************************************************************************\n",
      "image:  (922, 1236, 3)\n",
      "1/1 [==============================] - 1s 1s/step\n",
      "identify user :  hamilton\n",
      "[(4412.298828125, 'hamilton')]\n"
     ]
    }
   ],
   "source": [
    "frame = cv2.imread(\"hamilton.png\")\n",
    "face_bboxes = await get_face_box(frame)\n",
    "user_detected = await recognize_faces(frame, face_bboxes)\n",
    "\n",
    "print(user_detected)"
   ]
  },
  {
   "cell_type": "code",
   "execution_count": null,
   "metadata": {},
   "outputs": [],
   "source": []
  }
 ],
 "metadata": {
  "kernelspec": {
   "display_name": "proj_venv",
   "language": "python",
   "name": "python3"
  },
  "language_info": {
   "codemirror_mode": {
    "name": "ipython",
    "version": 3
   },
   "file_extension": ".py",
   "mimetype": "text/x-python",
   "name": "python",
   "nbconvert_exporter": "python",
   "pygments_lexer": "ipython3",
   "version": "3.10.12"
  }
 },
 "nbformat": 4,
 "nbformat_minor": 2
}
